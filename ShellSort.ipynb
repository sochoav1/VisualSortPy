{
 "cells": [
  {
   "cell_type": "code",
   "execution_count": null,
   "metadata": {},
   "outputs": [],
   "source": [
    "import matplotlib.pyplot as plt\n",
    "import matplotlib.animation as animation\n",
    "import random\n",
    "\n",
    "numeros = list(range(1, 101))\n",
    "random.shuffle(numeros)\n",
    "\n",
    "def shell_sort(nums):\n",
    "    gap = len(nums) // 2\n",
    "    while gap > 0:\n",
    "        for i in range(gap, len(nums)):\n",
    "            temp = nums[i]\n",
    "            j = i\n",
    "            while j >= gap and nums[j - gap] > temp:\n",
    "                nums[j] = nums[j - gap]\n",
    "                yield nums\n",
    "                j -= gap\n",
    "            nums[j] = temp\n",
    "        gap //= 2\n",
    "\n",
    "# Función de actualización para la animación\n",
    "def actualizar_numeros(nums, rects):\n",
    "    for rect, val in zip(rects, nums):\n",
    "        rect.set_height(val)\n",
    "\n",
    "# Crea la animación\n",
    "fig, ax = plt.subplots()\n",
    "rects = plt.bar(range(len(numeros)), numeros, align='edge')\n",
    "\n",
    "ani = animation.FuncAnimation(fig, actualizar_numeros, frames=shell_sort(numeros), fargs=(rects,), repeat=False, cache_frame_data=False)\n",
    "\n",
    "# Guarda la animación\n",
    "ani.save('OutShellSort.gif', writer='pillow', fps=10)\n",
    "\n",
    "plt.show()\n"
   ]
  }
 ],
 "metadata": {
  "language_info": {
   "name": "python"
  },
  "orig_nbformat": 4
 },
 "nbformat": 4,
 "nbformat_minor": 2
}
