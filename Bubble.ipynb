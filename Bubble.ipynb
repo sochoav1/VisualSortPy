{
 "cells": [
  {
   "cell_type": "code",
   "execution_count": null,
   "metadata": {},
   "outputs": [],
   "source": [
    "###Genera una lista ALEATORIA de numeros y los ordena mediante BubbleSort\n",
    "import matplotlib.pyplot as plt\n",
    "import matplotlib.animation as animation\n",
    "import random\n",
    "\n",
    "# Genera una lista de números aleatorios\n",
    "numeros = [random.randint(1, 500) for i in range(100)]\n",
    "\n",
    "def ordenamiento_burbuja(numeros):\n",
    "    n = len(numeros)\n",
    "    for i in range(n):\n",
    "        for j in range(0, n - i - 1):\n",
    "            if numeros[j] > numeros[j + 1] :\n",
    "                numeros[j], numeros[j + 1] = numeros[j + 1], numeros[j]\n",
    "        yield numeros\n",
    "\n",
    "# Función de actualización para la animación\n",
    "def actualizar_numeros(numeros, rects):\n",
    "    for rect, val in zip(rects, numeros):\n",
    "        rect.set_height(val)\n",
    "\n",
    "# Crea la animación\n",
    "fig, ax = plt.subplots()\n",
    "rects = plt.bar(range(len(numeros)), numeros, align='edge')\n",
    "\n",
    "ani = animation.FuncAnimation(fig, actualizar_numeros,\n",
    "                              frames=ordenamiento_burbuja(numeros), \n",
    "                              fargs=(rects,), repeat=False,\n",
    "                              cache_frame_data=False)\n",
    "\n",
    "\n",
    "# Guarda la animación\n",
    "ani.save('ordenamiento.gif', writer='pillow', fps=10)\n",
    "\n",
    "\n",
    "plt.show()\n"
   ]
  },
  {
   "cell_type": "code",
   "execution_count": 4,
   "metadata": {},
   "outputs": [
    {
     "data": {
      "image/png": "[encoded data removed]",
      "text/plain": [
       "<Figure size 640x480 with 1 Axes>"
      ]
     },
     "metadata": {},
     "output_type": "display_data"
    }
   ],
   "source": [
    "####Genera una lista de numeros de 1 a n y los ordena mediante BubbleSort\n",
    "import matplotlib.pyplot as plt\n",
    "import matplotlib.animation as animation\n",
    "import random\n",
    "\n",
    "# Genera una lista de números del 1 al 100 y luego los desordena\n",
    "numeros = list(range(1, 5000))\n",
    "random.shuffle(numeros)\n",
    "\n",
    "def ordenamiento_burbuja(numeros):\n",
    "    n = len(numeros)\n",
    "    for i in range(n):\n",
    "        for j in range(0, n - i - 1):\n",
    "            if numeros[j] > numeros[j + 1] :\n",
    "                numeros[j], numeros[j + 1] = numeros[j + 1], numeros[j]\n",
    "        yield numeros\n",
    "\n",
    "# Función de actualización para la animación\n",
    "def actualizar_numeros(numeros, rects):\n",
    "    for rect, val in zip(rects, numeros):\n",
    "        rect.set_height(val)\n",
    "\n",
    "# Crea la animación\n",
    "fig, ax = plt.subplots()\n",
    "rects = plt.bar(range(len(numeros)), numeros, align='edge')\n",
    "\n",
    "ani = animation.FuncAnimation(fig, actualizar_numeros,\n",
    "                              frames=ordenamiento_burbuja(numeros), \n",
    "                              fargs=(rects,), repeat=False,\n",
    "                              cache_frame_data=False)\n",
    "\n",
    "# Guarda la animación\n",
    "ani.save('ordenamiento.gif', writer='pillow', fps=10)\n",
    "\n",
    "plt.show()\n"
   ]
  }
 ],
 "metadata": {
  "kernelspec": {
   "display_name": "Python 3",
   "language": "python",
   "name": "python3"
  },
  "language_info": {
   "codemirror_mode": {
    "name": "ipython",
    "version": 3
   },
   "file_extension": ".py",
   "mimetype": "text/x-python",
   "name": "python",
   "nbconvert_exporter": "python",
   "pygments_lexer": "ipython3",
   "version": "3.11.4"
  },
  "orig_nbformat": 4
 },
 "nbformat": 4,
 "nbformat_minor": 2
}
